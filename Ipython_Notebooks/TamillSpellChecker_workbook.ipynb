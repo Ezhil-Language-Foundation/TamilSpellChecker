{
 "cells": [
  {
   "cell_type": "code",
   "execution_count": 46,
   "metadata": {},
   "outputs": [],
   "source": [
    "import requests\n",
    "from bs4 import BeautifulSoup\n",
    "import tamil\n",
    "import os\n",
    "from bloomfilter import BloomFilter \n",
    "\n",
    "# URL for Project Madurai\n",
    "base_url = 'https://www.projectmadurai.org'\n",
    "bloom_filter_file_path = \"tamil_bloom_filter.txt\"\n",
    "\n",
    "home_page = base_url + \"/pmworks.html\"\n",
    "res = requests.get(url)\n",
    "html_page = res.content\n",
    "\n",
    "\n",
    "#Beautiful soup to parse HTML file and extract indiviual html links for documents\n",
    "soup = BeautifulSoup(html_page)\n",
    "links = [a['href'] for a in soup.select('a[href]')]\n",
    "html_links = []\n",
    "\n",
    "#link in \n",
    "for link in links:\n",
    "    if \".html\" in link:\n",
    "        if \"pm_etext\" in link:\n",
    "            html_links.append(link)\n",
    "                \n",
    "ta_words = []\n",
    "for link in html_links:\n",
    "    res = requests.get(base_url+link)\n",
    "    html_page = res.content \n",
    "    soup = BeautifulSoup(html_page, 'html.parser')\n",
    "    text = soup.find_all(text=True)\n",
    "\n",
    "    output = ''\n",
    "    blacklist = [\n",
    "        '[document]',\n",
    "        'noscript',\n",
    "        'header',\n",
    "        'html',\n",
    "        'meta',\n",
    "        'head', \n",
    "        'input',\n",
    "        'script',\n",
    "        # there may be more elements you don't want, such as \"style\", etc.\n",
    "    ]\n",
    "\n",
    "    for t in text:\n",
    "        if t.parent.name not in blacklist:\n",
    "            output += '{} '.format(t)\n",
    "\n",
    "    \n",
    "    taletters = tamil.utf8.get_letters(output)\n",
    "    ta_words_page = tamil.utf8.get_tamil_words(taletters)\n",
    "    ta_words = ta_words + ta_words_page\n",
    "    \n",
    "\n",
    "ta_words_unique = list(set(ta_words))\n",
    "\n",
    "\n",
    "outfile = open('tamilwordlist.txt', 'w') # open a file in write mode\n",
    "for item in ta_words_unique:    # iterate over the list items\n",
    "   outfile.write(str(item) + '\\n') # write to the file\n",
    "outfile.close()   # close the file \n",
    "\n",
    "def create_bloomfilter_file(ta_words_list):\n",
    "        items_count = len(ta_words_list) \n",
    "        falsepositive_probability = 0.001\n",
    "        bloomf = BloomFilter(items_count,falsepositive_probability) \n",
    "        for word in ta_words_list:\n",
    "            bloomf.add(word)\n",
    "        bloomf.writetofile(bloom_filter_file_path)\n",
    "\n",
    "bloom_filter_file_path = \"tamil_bloom_filter.txt\"\n",
    "create_bloomfilter_file(ta_words_unique)\n",
    "\n"
   ]
  },
  {
   "cell_type": "code",
   "execution_count": 95,
   "metadata": {},
   "outputs": [
    {
     "name": "stdout",
     "output_type": "stream",
     "text": [
      "5\n"
     ]
    }
   ],
   "source": []
  },
  {
   "cell_type": "code",
   "execution_count": null,
   "metadata": {},
   "outputs": [],
   "source": []
  }
 ],
 "metadata": {
  "kernelspec": {
   "display_name": "Python 3",
   "language": "python",
   "name": "python3"
  },
  "language_info": {
   "codemirror_mode": {
    "name": "ipython",
    "version": 3
   },
   "file_extension": ".py",
   "mimetype": "text/x-python",
   "name": "python",
   "nbconvert_exporter": "python",
   "pygments_lexer": "ipython3",
   "version": "3.7.4"
  }
 },
 "nbformat": 4,
 "nbformat_minor": 2
}
