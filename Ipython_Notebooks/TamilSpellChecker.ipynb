{
 "cells": [
  {
   "cell_type": "code",
   "execution_count": 1,
   "metadata": {},
   "outputs": [],
   "source": [
    "import os\n",
    "import traceback\n",
    "from bloomfilter import BloomFilter \n",
    "import jellyfish\n",
    "\n",
    "edit_distance = 2\n",
    "tamil_unique_words_file_path = \"tamilwordlist.txt\"\n",
    "bloom_filter_file_path = \"tamil_bloom_filter.txt\"\n",
    "\n",
    "def read_tamil_words_listfile(tamil_unique_words_file_path):\n",
    "    ta_words_unique = []\n",
    "    try:\n",
    "        tamil_word_file = open(tamil_unique_words_file_path, 'r') \n",
    "        for line in tamil_word_file: \n",
    "            ta_words_unique.append(line.strip())\n",
    "        tamil_word_file.close()    \n",
    "    except Exception as e:\n",
    "        track = traceback.format_exc()\n",
    "        print(track)\n",
    "    return ta_words_unique\n",
    "\n",
    "def read_bloom_filter_tamil_file(bloom_filter_path):\n",
    "    falsepositive_probability = 0.001\n",
    "    tamil_word_count = 2043478\n",
    "    bloom_tamil = \"\"\n",
    "    try:\n",
    "        bloom_tamil = BloomFilter(tamil_word_count,falsepositive_probability,bloom_filter_file_path)\n",
    "    except Exception as e:\n",
    "        track = traceback.format_exc()\n",
    "        print(track)\n",
    "    return bloom_tamil\n",
    "\n",
    "def tamil_correct_spelling(word,edit_distance,ta_words_unique,bloom_tamil):\n",
    "    suggested_words = []\n",
    "    if not bloom_tamil.check(word):\n",
    "        for tamil_word in ta_words_unique:\n",
    "            if jellyfish.levenshtein_distance(tamil_word, word) < edit_distance:\n",
    "                suggested_words.append(tamil_word)\n",
    "    return suggested_words\n",
    " \n",
    "\n",
    "\n",
    "ta_words_unique = read_tamil_words_listfile(tamil_unique_words_file_path)\n",
    "bloom_tamil = read_bloom_filter_tamil_file(bloom_filter_file_path)\n",
    "\n",
    "\n",
    "\n"
   ]
  },
  {
   "cell_type": "code",
   "execution_count": 6,
   "metadata": {},
   "outputs": [
    {
     "data": {
      "text/plain": [
       "[]"
      ]
     },
     "execution_count": 6,
     "metadata": {},
     "output_type": "execute_result"
    }
   ],
   "source": [
    "\n",
    "word = \"தாப\"\n",
    "tamil_correct_spelling(word,edit_distance,ta_words_unique,bloom_tamil)\n"
   ]
  },
  {
   "cell_type": "code",
   "execution_count": 28,
   "metadata": {},
   "outputs": [
    {
     "data": {
      "text/plain": [
       "['முகாம்', 'மலகாம்', 'மெலாம்', 'மேகாம்']"
      ]
     },
     "execution_count": 28,
     "metadata": {},
     "output_type": "execute_result"
    }
   ],
   "source": []
  },
  {
   "cell_type": "code",
   "execution_count": null,
   "metadata": {},
   "outputs": [],
   "source": []
  }
 ],
 "metadata": {
  "kernelspec": {
   "display_name": "Python 3",
   "language": "python",
   "name": "python3"
  },
  "language_info": {
   "codemirror_mode": {
    "name": "ipython",
    "version": 3
   },
   "file_extension": ".py",
   "mimetype": "text/x-python",
   "name": "python",
   "nbconvert_exporter": "python",
   "pygments_lexer": "ipython3",
   "version": "3.7.4"
  }
 },
 "nbformat": 4,
 "nbformat_minor": 2
}
